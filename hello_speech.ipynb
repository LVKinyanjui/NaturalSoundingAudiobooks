{
 "cells": [
  {
   "cell_type": "code",
   "execution_count": 1,
   "metadata": {},
   "outputs": [
    {
     "name": "stdout",
     "output_type": "stream",
     "text": [
      "None\n"
     ]
    }
   ],
   "source": [
    "from elevenlabs import ElevenLabs, VoiceSettings\n",
    "\n",
    "import os\n",
    "api_key = os.getenv(\"ELEVENLABS_API_KEY\")\n",
    "print(api_key)"
   ]
  },
  {
   "cell_type": "code",
   "execution_count": null,
   "metadata": {},
   "outputs": [],
   "source": [
    "client = ElevenLabs(\n",
    "    api_key=api_key,\n",
    ")\n",
    "client.text_to_speech.convert(\n",
    "    voice_id=\"pMsXgVXv3BLzUgSXRplE\",\n",
    "    optimize_streaming_latency=\"0\",\n",
    "    output_format=\"mp3_22050_32\",\n",
    "    text=\"It sure does, Jackie… My mama always said: “In Carolina, the air's so thick you can wear it!”\",\n",
    "    voice_settings=VoiceSettings(\n",
    "        stability=0.1,\n",
    "        similarity_boost=0.3,\n",
    "        style=0.2,\n",
    "    ),\n",
    ")"
   ]
  }
 ],
 "metadata": {
  "kernelspec": {
   "display_name": "venv",
   "language": "python",
   "name": "python3"
  },
  "language_info": {
   "codemirror_mode": {
    "name": "ipython",
    "version": 3
   },
   "file_extension": ".py",
   "mimetype": "text/x-python",
   "name": "python",
   "nbconvert_exporter": "python",
   "pygments_lexer": "ipython3",
   "version": "3.10.12"
  }
 },
 "nbformat": 4,
 "nbformat_minor": 2
}
